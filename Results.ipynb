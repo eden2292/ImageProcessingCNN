{
 "cells": [
  {
   "cell_type": "markdown",
   "metadata": {},
   "source": [
    "Results for Animals 10 dataset with no preprocessing steps\n",
    "\n",
    "<figure>\n",
    "    <img src=\"IMAGES/animals_10_no_7030.png\" alt=\"Animals 10, no preprocessing, 70/30\">\n",
    "    <figcaption>Results with 70/30 split</figcaption>\n",
    "</figure>\n",
    "\n",
    "<figure>\n",
    "    <img src=\"IMAGES/animals_10_no_8020.png\" alt=\"Animals 10, no preprocessing, 70/30\">\n",
    "    <figcaption>Results with 80/20 split</figcaption>\n",
    "</figure>\n"
   ]
  },
  {
   "cell_type": "markdown",
   "metadata": {},
   "source": [
    "Results for Animals 10 dataset with preprocessing steps\n",
    "\n",
    "<figure>\n",
    "    <img src=\"IMAGES/animals_10_7030.png\" alt=\"Animals 10, with preprocessing, 70/30\">\n",
    "    <figcaption>Results with 70/30 split</figcaption>\n",
    "</figure>\n",
    "\n",
    "<figure>\n",
    "    <img src=\"IMAGES/animals_10_8020.png\" alt=\"Animals 10, with preprocessing, 80/20\">\n",
    "    <figcaption>Results with 80/20 split</figcaption>\n",
    "</figure>"
   ]
  },
  {
   "cell_type": "markdown",
   "metadata": {},
   "source": [
    "Experimental - introduced background removal in preprocessing </br>\n",
    "Significant reduction in accuracy </br>\n",
    "Background removal algorithm would often remove too much information leading to a black image or key features missing.  \n",
    "\n",
    "<figure>\n",
    "    <img src=\"IMAGES/animals_10_nobkg_7030.png\" alt=\"Animals 10, background removal, 70/30\">\n",
    "    <figcaption>Results with 70/30 split</figcaption>\n",
    "</figure>\n",
    "\n",
    "<figure>\n",
    "    <img src=\"IMAGES/animals_10_nobkg_8020.png\" alt=\"Animals 10, background removal, 80/20\">\n",
    "    <figcaption>Results with 80/20 split</figcaption>\n",
    "</figure>"
   ]
  },
  {
   "cell_type": "markdown",
   "metadata": {},
   "source": [
    "Table of results\n",
    "\n",
    "|  Run | split | Best train accuracy | test accuracy | loss |\n",
    "| ----- | ----- | ----- | ----- | ----- |\n",
    "| no preprocessing | 70/30 | 0.8854 | 0.2866 | 2.7339 |\n",
    "| with preprocessing | 70/30 | 0.8863 | 0.2907 | 2.7222 |\n",
    "| no preprocessing | 80/20 | 0.8625 | 0.2917 | 2.7380 | \n",
    "| with preprocessing | 80/20 | 0.8639 | 0.3054 | 2.7029 |\n",
    "\n",
    "Experimental results excluded as the removal made both train and test accuracy drop significantly. "
   ]
  },
  {
   "cell_type": "markdown",
   "metadata": {},
   "source": [
    "Brain tumor dataset </br>\n",
    "https://www.kaggle.com/datasets/arifmia/brain-tumor-dataset"
   ]
  },
  {
   "cell_type": "markdown",
   "metadata": {},
   "source": [
    "Results for Brain tumor dataset with no preprocessing step\n",
    "<figure>\n",
    "    <img src=\"IMAGES/brain_no_7030\" alt=\"Brain tumor, no preprocessing, 70/30\">\n",
    "    <figcaption>Results with 70/30 split</figcaption>\n",
    "</figure>\n",
    "\n",
    "<figure>\n",
    "    <img src=\"IMAGES/brain_no_8020\" alt=\"Brain tumor, no preprocessing, 80/20\">\n",
    "    <figcaption>Results with 80/20 split</figcaption>\n",
    "</figure>"
   ]
  },
  {
   "cell_type": "markdown",
   "metadata": {},
   "source": [
    "Results for Brain tumor dataset with preprocessing step\n",
    "<figure>\n",
    "    <img src=\"IMAGES/brain_7030\" alt=\"Brain tumor, with preprocessing, 70/30\">\n",
    "    <figcaption>Results with 70/30 split</figcaption>\n",
    "</figure>\n",
    "\n",
    "<figure>\n",
    "    <img src=\"IMAGES/brain_8020\" alt=\"Brain tumor, with preprocessing, 80/20\">\n",
    "    <figcaption>Results with 80/20 split</figcaption>\n",
    "</figure>"
   ]
  },
  {
   "cell_type": "markdown",
   "metadata": {},
   "source": [
    "Table of Results \n",
    "\n",
    "|Run               |split|Best train accuracy|Test accuracy|Loss  |\n",
    "|------------------|-----|-------------------|-------------|------|\n",
    "|No preprocessing  |70/30|1.0000             |0.5217       |0.7631|\n",
    "|With preprocessing|70/30|1.0000             |0.4783       |0.8805|\n",
    "|No preprocessing  |80/20|1.0000             |0.5          |0.9502|\n",
    "|With preprocessing|80/20|1.0000             |0.6875       |0.5689|"
   ]
  },
  {
   "cell_type": "markdown",
   "metadata": {},
   "source": [
    "Rice dataset </br>\n",
    "https://www.kaggle.com/datasets/muratkokludataset/rice-image-dataset"
   ]
  },
  {
   "cell_type": "markdown",
   "metadata": {},
   "source": [
    "Results for rice dataset with no preprocessing step\n",
    "\n",
    "<figure>\n",
    "    <img src=\"IMAGES/rice_no_7030\" alt=\"rice, with preprocessing, 70/30\">\n",
    "    <figcaption>Results with 70/30 split</figcaption>\n",
    "</figure>\n",
    "\n",
    "<figure>\n",
    "    <img src=\"IMAGES/rice_no_8020\" alt=\"rice, with preprocessing, 80/20\">\n",
    "    <figcaption>Results with 80/20 split</figcaption>\n",
    "</figure>"
   ]
  },
  {
   "cell_type": "markdown",
   "metadata": {},
   "source": [
    "Results for rice dataset with preprocessing step\n",
    "\n",
    "<figure>\n",
    "    <img src=\"IMAGES/rice_7030\" alt=\"rice, with preprocessing, 70/30\">\n",
    "    <figcaption>Results with 70/30 split</figcaption>\n",
    "</figure>\n",
    "\n",
    "<figure>\n",
    "    <img src=\"IMAGES/rice_8020\" alt=\"rice, with preprocessing, 80/20\">\n",
    "    <figcaption>Results with 80/20 split</figcaption>\n",
    "</figure>"
   ]
  },
  {
   "cell_type": "markdown",
   "metadata": {},
   "source": [
    "Table of results\n",
    "\n",
    "| Run                | Split | Best train accuracy | Test accuracy | Loss   |\n",
    "| ------------------ | ----- | ------------------- | ------------- | ------ |\n",
    "| No preprocessing   | 70/30 | 0.9886              | 0.9667        | 0.1272 |\n",
    "| With preprocessing | 70/30 | 0.9891              | 0.9680        | 0.1384 |\n",
    "| No preprocessing   | 80/20 | 0.9881              | 0.9670        | 0.1348 |\n",
    "| With preprocessing | 80/20 | 0.9884              | 0.9691        | 0.1253 |"
   ]
  },
  {
   "cell_type": "markdown",
   "metadata": {},
   "source": [
    "Best results from each dataset </br>\n",
    "\n",
    "Animals 10 - 0.3054 - 80/20 with preprocessing </br>\n",
    "Brain tumour - 0.6875 - 80/20 with preprocessing </br>\n",
    "Rice - 0.9691 - 80/20 with preprocessing </br>"
   ]
  }
 ],
 "metadata": {
  "language_info": {
   "name": "python"
  }
 },
 "nbformat": 4,
 "nbformat_minor": 2
}
