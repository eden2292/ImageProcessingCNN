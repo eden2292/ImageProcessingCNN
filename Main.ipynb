{
 "cells": [
  {
   "cell_type": "markdown",
   "metadata": {},
   "source": [
    "Convolutional nueral network to process images. Labels are kept in CSV file. \n",
    "Based on in class demonstration \n"
   ]
  },
  {
   "cell_type": "code",
   "execution_count": 1,
   "metadata": {},
   "outputs": [],
   "source": [
    "import tensorflow as tf \n",
    "import numpy as np\n"
   ]
  },
  {
   "cell_type": "markdown",
   "metadata": {},
   "source": [
    "Loading in the dataset and preprocessing it. \n",
    "Normalisation changes the value of a pixel from 0-255 to between 0 and 1. CNNs perform better in learning and processing with smaller values. \n",
    "https://www.researchgate.net/post/Normalizing_a_image_dataset_for_CNN\n",
    "Channels are added to change the shape of the array from 2D to 3D so that the channel value is included. In greyscale images, the value is 1. For RGB or BGR the value is 3."
   ]
  },
  {
   "cell_type": "code",
   "execution_count": null,
   "metadata": {},
   "outputs": [],
   "source": [
    "dataset_path = 'A:/OneDrive/Documents/Uni/test-data'"
   ]
  },
  {
   "cell_type": "code",
   "execution_count": null,
   "metadata": {},
   "outputs": [],
   "source": [
    "# Load and pre-process the data\n",
    "(x_train, y_train), (x_test, y_test) = tf.keras.datasets"
   ]
  }
 ],
 "metadata": {
  "kernelspec": {
   "display_name": "Python 3",
   "language": "python",
   "name": "python3"
  },
  "language_info": {
   "codemirror_mode": {
    "name": "ipython",
    "version": 3
   },
   "file_extension": ".py",
   "mimetype": "text/x-python",
   "name": "python",
   "nbconvert_exporter": "python",
   "pygments_lexer": "ipython3",
   "version": "3.11.9"
  }
 },
 "nbformat": 4,
 "nbformat_minor": 2
}
