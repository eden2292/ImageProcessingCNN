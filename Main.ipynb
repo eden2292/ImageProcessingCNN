{
 "cells": [
  {
   "cell_type": "markdown",
   "metadata": {},
   "source": [
    "Convolutional nueral network to process images. Labels are kept in CSV file. \n",
    "Based on in class demonstration \n"
   ]
  },
  {
   "cell_type": "code",
   "execution_count": 1,
   "metadata": {},
   "outputs": [],
   "source": [
    "import tensorflow as tf \n",
    "import numpy as np\n",
    "import pandas as pd\n",
    "import importnb \n",
    "from sklearn.model_selection import train_test_split\n",
    "%run Functions.ipynb\n",
    "%run CustomLayers.ipynb"
   ]
  },
  {
   "cell_type": "markdown",
   "metadata": {},
   "source": [
    "Loading in the dataset and preprocessing it. \n",
    "Normalisation changes the value of a pixel from 0-255 to between 0 and 1. CNNs perform better in learning and processing with smaller values. \n",
    "https://www.researchgate.net/post/Normalizing_a_image_dataset_for_CNN\n",
    "Channels are added to change the shape of the array from 2D to 3D so that the channel value is included. In greyscale images, the value is 1. For RGB or BGR the value is 3."
   ]
  },
  {
   "cell_type": "code",
   "execution_count": 2,
   "metadata": {},
   "outputs": [],
   "source": [
    "# set paths to the images and CSV containing all labels. \n",
    "dataset_path = 'A:/OneDrive/Documents/Uni/preprocessed_img'\n",
    "label_path = 'A:/OneDrive/Documents/Uni/ImageProcessingAssignment/labels.csv'\n",
    "\n",
    "# read the CSV, which contains image filepaths and labels. \n",
    "df = pd.read_csv(label_path)\n",
    "\n",
    "# get file names and labels \n",
    "image_paths = df['file_path'].values \n",
    "labels = df['label'].values"
   ]
  },
  {
   "cell_type": "code",
   "execution_count": 3,
   "metadata": {},
   "outputs": [],
   "source": [
    "# load in images from the dataset\n",
    "x_data = np.array([load_images(img, dataset_path) for img in image_paths])\n",
    "# create an array of labels from the csv\n",
    "y_data = np.array(labels)"
   ]
  },
  {
   "cell_type": "code",
   "execution_count": 4,
   "metadata": {},
   "outputs": [],
   "source": [
    "# split the data into test and train datasets. change number to alter the size. Random state = None creates a new random split each time. \n",
    "x_train, x_test, y_train, y_test = train_test_split(x_data, y_data, test_size=0.2, random_state=None)\n",
    "\n",
    "# Normalise the data\n",
    "x_train = x_train / 255.0\n",
    "x_test = x_test /255.0"
   ]
  },
  {
   "cell_type": "code",
   "execution_count": 5,
   "metadata": {},
   "outputs": [
    {
     "name": "stdout",
     "output_type": "stream",
     "text": [
      "WARNING:tensorflow:From C:\\Users\\EdenP\\AppData\\Local\\Packages\\PythonSoftwareFoundation.Python.3.11_qbz5n2kfra8p0\\LocalCache\\local-packages\\Python311\\site-packages\\keras\\src\\backend\\tensorflow\\core.py:204: The name tf.placeholder is deprecated. Please use tf.compat.v1.placeholder instead.\n",
      "\n"
     ]
    },
    {
     "ename": "TypeError",
     "evalue": "Exception encountered when calling CannyEdgeLayer.call().\n\n\u001b[1mCould not automatically infer the output shape / dtype of 'canny_edge_layer' (of type CannyEdgeLayer). Either the `CannyEdgeLayer.call()` method is incorrect, or you need to implement the `CannyEdgeLayer.compute_output_spec() / compute_output_shape()` method. Error encountered:\n\nExpected bool, but got 22.5 of type 'float'.\u001b[0m\n\nArguments received by CannyEdgeLayer.call():\n  • args=('<KerasTensor shape=(None, 32, 32, 1), dtype=float32, sparse=False, name=keras_tensor>',)\n  • kwargs=<class 'inspect._empty'>",
     "output_type": "error",
     "traceback": [
      "\u001b[1;31m---------------------------------------------------------------------------\u001b[0m",
      "\u001b[1;31mTypeError\u001b[0m                                 Traceback (most recent call last)",
      "Cell \u001b[1;32mIn[5], line 2\u001b[0m\n\u001b[0;32m      1\u001b[0m \u001b[38;5;66;03m# Build a model using convolutional layers\u001b[39;00m\n\u001b[1;32m----> 2\u001b[0m model \u001b[38;5;241m=\u001b[39m \u001b[43mtf\u001b[49m\u001b[38;5;241;43m.\u001b[39;49m\u001b[43mkeras\u001b[49m\u001b[38;5;241;43m.\u001b[39;49m\u001b[43mSequential\u001b[49m\u001b[43m(\u001b[49m\u001b[43m[\u001b[49m\n\u001b[0;32m      3\u001b[0m \u001b[43m    \u001b[49m\u001b[43mtf\u001b[49m\u001b[38;5;241;43m.\u001b[39;49m\u001b[43mkeras\u001b[49m\u001b[38;5;241;43m.\u001b[39;49m\u001b[43mInput\u001b[49m\u001b[43m(\u001b[49m\u001b[43mshape\u001b[49m\u001b[43m \u001b[49m\u001b[38;5;241;43m=\u001b[39;49m\u001b[43m \u001b[49m\u001b[43m(\u001b[49m\u001b[38;5;241;43m32\u001b[39;49m\u001b[43m,\u001b[49m\u001b[43m \u001b[49m\u001b[38;5;241;43m32\u001b[39;49m\u001b[43m,\u001b[49m\u001b[43m \u001b[49m\u001b[38;5;241;43m1\u001b[39;49m\u001b[43m)\u001b[49m\u001b[43m)\u001b[49m\u001b[43m,\u001b[49m\n\u001b[0;32m      4\u001b[0m \u001b[43m    \u001b[49m\u001b[43mCannyEdgeLayer\u001b[49m\u001b[43m(\u001b[49m\u001b[43mlow\u001b[49m\u001b[43m \u001b[49m\u001b[38;5;241;43m=\u001b[39;49m\u001b[43m \u001b[49m\u001b[38;5;241;43m0.1\u001b[39;49m\u001b[43m,\u001b[49m\u001b[43m \u001b[49m\u001b[43mhigh\u001b[49m\u001b[43m \u001b[49m\u001b[38;5;241;43m=\u001b[39;49m\u001b[43m \u001b[49m\u001b[38;5;241;43m0.3\u001b[39;49m\u001b[43m)\u001b[49m\n\u001b[0;32m      5\u001b[0m \u001b[43m]\u001b[49m\u001b[43m)\u001b[49m\n",
      "File \u001b[1;32m~\\AppData\\Local\\Packages\\PythonSoftwareFoundation.Python.3.11_qbz5n2kfra8p0\\LocalCache\\local-packages\\Python311\\site-packages\\keras\\src\\models\\sequential.py:76\u001b[0m, in \u001b[0;36mSequential.__init__\u001b[1;34m(self, layers, trainable, name)\u001b[0m\n\u001b[0;32m     74\u001b[0m \u001b[38;5;28;01mfor\u001b[39;00m layer \u001b[38;5;129;01min\u001b[39;00m layers:\n\u001b[0;32m     75\u001b[0m     \u001b[38;5;28mself\u001b[39m\u001b[38;5;241m.\u001b[39madd(layer, rebuild\u001b[38;5;241m=\u001b[39m\u001b[38;5;28;01mFalse\u001b[39;00m)\n\u001b[1;32m---> 76\u001b[0m \u001b[38;5;28;43mself\u001b[39;49m\u001b[38;5;241;43m.\u001b[39;49m\u001b[43m_maybe_rebuild\u001b[49m\u001b[43m(\u001b[49m\u001b[43m)\u001b[49m\n",
      "File \u001b[1;32m~\\AppData\\Local\\Packages\\PythonSoftwareFoundation.Python.3.11_qbz5n2kfra8p0\\LocalCache\\local-packages\\Python311\\site-packages\\keras\\src\\models\\sequential.py:141\u001b[0m, in \u001b[0;36mSequential._maybe_rebuild\u001b[1;34m(self)\u001b[0m\n\u001b[0;32m    139\u001b[0m \u001b[38;5;28;01mif\u001b[39;00m \u001b[38;5;28misinstance\u001b[39m(\u001b[38;5;28mself\u001b[39m\u001b[38;5;241m.\u001b[39m_layers[\u001b[38;5;241m0\u001b[39m], InputLayer) \u001b[38;5;129;01mand\u001b[39;00m \u001b[38;5;28mlen\u001b[39m(\u001b[38;5;28mself\u001b[39m\u001b[38;5;241m.\u001b[39m_layers) \u001b[38;5;241m>\u001b[39m \u001b[38;5;241m1\u001b[39m:\n\u001b[0;32m    140\u001b[0m     input_shape \u001b[38;5;241m=\u001b[39m \u001b[38;5;28mself\u001b[39m\u001b[38;5;241m.\u001b[39m_layers[\u001b[38;5;241m0\u001b[39m]\u001b[38;5;241m.\u001b[39mbatch_shape\n\u001b[1;32m--> 141\u001b[0m     \u001b[38;5;28;43mself\u001b[39;49m\u001b[38;5;241;43m.\u001b[39;49m\u001b[43mbuild\u001b[49m\u001b[43m(\u001b[49m\u001b[43minput_shape\u001b[49m\u001b[43m)\u001b[49m\n\u001b[0;32m    142\u001b[0m \u001b[38;5;28;01melif\u001b[39;00m \u001b[38;5;28mhasattr\u001b[39m(\u001b[38;5;28mself\u001b[39m\u001b[38;5;241m.\u001b[39m_layers[\u001b[38;5;241m0\u001b[39m], \u001b[38;5;124m\"\u001b[39m\u001b[38;5;124minput_shape\u001b[39m\u001b[38;5;124m\"\u001b[39m) \u001b[38;5;129;01mand\u001b[39;00m \u001b[38;5;28mlen\u001b[39m(\u001b[38;5;28mself\u001b[39m\u001b[38;5;241m.\u001b[39m_layers) \u001b[38;5;241m>\u001b[39m \u001b[38;5;241m1\u001b[39m:\n\u001b[0;32m    143\u001b[0m     \u001b[38;5;66;03m# We can build the Sequential model if the first layer has the\u001b[39;00m\n\u001b[0;32m    144\u001b[0m     \u001b[38;5;66;03m# `input_shape` property. This is most commonly found in Functional\u001b[39;00m\n\u001b[0;32m    145\u001b[0m     \u001b[38;5;66;03m# model.\u001b[39;00m\n\u001b[0;32m    146\u001b[0m     input_shape \u001b[38;5;241m=\u001b[39m \u001b[38;5;28mself\u001b[39m\u001b[38;5;241m.\u001b[39m_layers[\u001b[38;5;241m0\u001b[39m]\u001b[38;5;241m.\u001b[39minput_shape\n",
      "File \u001b[1;32m~\\AppData\\Local\\Packages\\PythonSoftwareFoundation.Python.3.11_qbz5n2kfra8p0\\LocalCache\\local-packages\\Python311\\site-packages\\keras\\src\\layers\\layer.py:226\u001b[0m, in \u001b[0;36mLayer.__new__.<locals>.build_wrapper\u001b[1;34m(*args, **kwargs)\u001b[0m\n\u001b[0;32m    224\u001b[0m \u001b[38;5;28;01mwith\u001b[39;00m obj\u001b[38;5;241m.\u001b[39m_open_name_scope():\n\u001b[0;32m    225\u001b[0m     obj\u001b[38;5;241m.\u001b[39m_path \u001b[38;5;241m=\u001b[39m current_path()\n\u001b[1;32m--> 226\u001b[0m     \u001b[43moriginal_build_method\u001b[49m\u001b[43m(\u001b[49m\u001b[38;5;241;43m*\u001b[39;49m\u001b[43margs\u001b[49m\u001b[43m,\u001b[49m\u001b[43m \u001b[49m\u001b[38;5;241;43m*\u001b[39;49m\u001b[38;5;241;43m*\u001b[39;49m\u001b[43mkwargs\u001b[49m\u001b[43m)\u001b[49m\n\u001b[0;32m    227\u001b[0m \u001b[38;5;66;03m# Record build config.\u001b[39;00m\n\u001b[0;32m    228\u001b[0m signature \u001b[38;5;241m=\u001b[39m inspect\u001b[38;5;241m.\u001b[39msignature(original_build_method)\n",
      "File \u001b[1;32m~\\AppData\\Local\\Packages\\PythonSoftwareFoundation.Python.3.11_qbz5n2kfra8p0\\LocalCache\\local-packages\\Python311\\site-packages\\keras\\src\\models\\sequential.py:206\u001b[0m, in \u001b[0;36mSequential.build\u001b[1;34m(self, input_shape)\u001b[0m\n\u001b[0;32m    199\u001b[0m         \u001b[38;5;28;01mif\u001b[39;00m \u001b[38;5;28mlen\u001b[39m(positional_args) \u001b[38;5;241m!=\u001b[39m \u001b[38;5;241m1\u001b[39m:\n\u001b[0;32m    200\u001b[0m             \u001b[38;5;28;01mraise\u001b[39;00m \u001b[38;5;167;01mValueError\u001b[39;00m(\n\u001b[0;32m    201\u001b[0m                 \u001b[38;5;124m\"\u001b[39m\u001b[38;5;124mLayers added to a Sequential model \u001b[39m\u001b[38;5;124m\"\u001b[39m\n\u001b[0;32m    202\u001b[0m                 \u001b[38;5;124m\"\u001b[39m\u001b[38;5;124mcan only have a single positional argument, \u001b[39m\u001b[38;5;124m\"\u001b[39m\n\u001b[0;32m    203\u001b[0m                 \u001b[38;5;124mf\u001b[39m\u001b[38;5;124m\"\u001b[39m\u001b[38;5;124mthe input tensor. Layer \u001b[39m\u001b[38;5;132;01m{\u001b[39;00mlayer\u001b[38;5;241m.\u001b[39m\u001b[38;5;18m__class__\u001b[39m\u001b[38;5;241m.\u001b[39m\u001b[38;5;18m__name__\u001b[39m\u001b[38;5;132;01m}\u001b[39;00m\u001b[38;5;124m \u001b[39m\u001b[38;5;124m\"\u001b[39m\n\u001b[0;32m    204\u001b[0m                 \u001b[38;5;124mf\u001b[39m\u001b[38;5;124m\"\u001b[39m\u001b[38;5;124mhas multiple positional arguments: \u001b[39m\u001b[38;5;132;01m{\u001b[39;00mpositional_args\u001b[38;5;132;01m}\u001b[39;00m\u001b[38;5;124m\"\u001b[39m\n\u001b[0;32m    205\u001b[0m             )\n\u001b[1;32m--> 206\u001b[0m         \u001b[38;5;28;01mraise\u001b[39;00m e\n\u001b[0;32m    207\u001b[0m outputs \u001b[38;5;241m=\u001b[39m x\n\u001b[0;32m    208\u001b[0m \u001b[38;5;28mself\u001b[39m\u001b[38;5;241m.\u001b[39m_functional \u001b[38;5;241m=\u001b[39m Functional(inputs\u001b[38;5;241m=\u001b[39minputs, outputs\u001b[38;5;241m=\u001b[39moutputs)\n",
      "File \u001b[1;32m~\\AppData\\Local\\Packages\\PythonSoftwareFoundation.Python.3.11_qbz5n2kfra8p0\\LocalCache\\local-packages\\Python311\\site-packages\\keras\\src\\models\\sequential.py:187\u001b[0m, in \u001b[0;36mSequential.build\u001b[1;34m(self, input_shape)\u001b[0m\n\u001b[0;32m    185\u001b[0m \u001b[38;5;28;01mfor\u001b[39;00m layer \u001b[38;5;129;01min\u001b[39;00m \u001b[38;5;28mself\u001b[39m\u001b[38;5;241m.\u001b[39m_layers[\u001b[38;5;241m1\u001b[39m:]:\n\u001b[0;32m    186\u001b[0m     \u001b[38;5;28;01mtry\u001b[39;00m:\n\u001b[1;32m--> 187\u001b[0m         x \u001b[38;5;241m=\u001b[39m \u001b[43mlayer\u001b[49m\u001b[43m(\u001b[49m\u001b[43mx\u001b[49m\u001b[43m)\u001b[49m\n\u001b[0;32m    188\u001b[0m     \u001b[38;5;28;01mexcept\u001b[39;00m \u001b[38;5;167;01mNotImplementedError\u001b[39;00m:\n\u001b[0;32m    189\u001b[0m         \u001b[38;5;66;03m# Can happen if shape inference is not implemented.\u001b[39;00m\n\u001b[0;32m    190\u001b[0m         \u001b[38;5;66;03m# TODO: consider reverting inbound nodes on layers processed.\u001b[39;00m\n\u001b[0;32m    191\u001b[0m         \u001b[38;5;28;01mreturn\u001b[39;00m\n",
      "File \u001b[1;32m~\\AppData\\Local\\Packages\\PythonSoftwareFoundation.Python.3.11_qbz5n2kfra8p0\\LocalCache\\local-packages\\Python311\\site-packages\\keras\\src\\utils\\traceback_utils.py:122\u001b[0m, in \u001b[0;36mfilter_traceback.<locals>.error_handler\u001b[1;34m(*args, **kwargs)\u001b[0m\n\u001b[0;32m    119\u001b[0m     filtered_tb \u001b[38;5;241m=\u001b[39m _process_traceback_frames(e\u001b[38;5;241m.\u001b[39m__traceback__)\n\u001b[0;32m    120\u001b[0m     \u001b[38;5;66;03m# To get the full stack trace, call:\u001b[39;00m\n\u001b[0;32m    121\u001b[0m     \u001b[38;5;66;03m# `keras.config.disable_traceback_filtering()`\u001b[39;00m\n\u001b[1;32m--> 122\u001b[0m     \u001b[38;5;28;01mraise\u001b[39;00m e\u001b[38;5;241m.\u001b[39mwith_traceback(filtered_tb) \u001b[38;5;28;01mfrom\u001b[39;00m \u001b[38;5;28;01mNone\u001b[39;00m\n\u001b[0;32m    123\u001b[0m \u001b[38;5;28;01mfinally\u001b[39;00m:\n\u001b[0;32m    124\u001b[0m     \u001b[38;5;28;01mdel\u001b[39;00m filtered_tb\n",
      "File \u001b[1;32m~\\AppData\\Local\\Temp\\ipykernel_21588\\1473341275.py:39\u001b[0m, in \u001b[0;36mCannyEdgeLayer.call\u001b[1;34m(self, inputs)\u001b[0m\n\u001b[0;32m     36\u001b[0m gradient_direction \u001b[38;5;241m=\u001b[39m tf\u001b[38;5;241m.\u001b[39matan2(gradient_y, gradient_x)\n\u001b[0;32m     38\u001b[0m \u001b[38;5;66;03m# apply non-maximum suppression to thin out the edges \u001b[39;00m\n\u001b[1;32m---> 39\u001b[0m suppressed \u001b[38;5;241m=\u001b[39m \u001b[38;5;28;43mself\u001b[39;49m\u001b[38;5;241;43m.\u001b[39;49m\u001b[43mnon_maximum_suppression\u001b[49m\u001b[43m(\u001b[49m\u001b[43mgradient_magnitude\u001b[49m\u001b[43m,\u001b[49m\u001b[43m \u001b[49m\u001b[43mgradient_direction\u001b[49m\u001b[43m)\u001b[49m\n\u001b[0;32m     41\u001b[0m \u001b[38;5;66;03m# filter weak and strong edges using thresholds for hysteresis\u001b[39;00m\n\u001b[0;32m     42\u001b[0m strong_edges \u001b[38;5;241m=\u001b[39m tf\u001b[38;5;241m.\u001b[39mwhere(suppressed \u001b[38;5;241m>\u001b[39m\u001b[38;5;241m=\u001b[39m \u001b[38;5;28mself\u001b[39m\u001b[38;5;241m.\u001b[39mhigh, \u001b[38;5;241m1.0\u001b[39m, \u001b[38;5;241m0.0\u001b[39m)\n",
      "File \u001b[1;32m~\\AppData\\Local\\Temp\\ipykernel_21588\\1473341275.py:73\u001b[0m, in \u001b[0;36mCannyEdgeLayer.non_maximum_suppression\u001b[1;34m(self, gradient_magnitude, gradient_direction)\u001b[0m\n\u001b[0;32m     64\u001b[0m neighbours \u001b[38;5;241m=\u001b[39m {\u001b[38;5;241m0\u001b[39m: (shifted_tensor(gradient_magnitude, \u001b[38;5;241m0\u001b[39m, \u001b[38;5;241m-\u001b[39m\u001b[38;5;241m1\u001b[39m), shifted_tensor(gradient_magnitude, \u001b[38;5;241m0\u001b[39m, \u001b[38;5;241m1\u001b[39m)),\n\u001b[0;32m     65\u001b[0m               \u001b[38;5;241m45\u001b[39m: (shifted_tensor(gradient_magnitude, \u001b[38;5;241m-\u001b[39m\u001b[38;5;241m1\u001b[39m, \u001b[38;5;241m1\u001b[39m), shifted_tensor(gradient_magnitude, \u001b[38;5;241m1\u001b[39m, \u001b[38;5;241m-\u001b[39m\u001b[38;5;241m1\u001b[39m)),\n\u001b[0;32m     66\u001b[0m               \u001b[38;5;241m90\u001b[39m: (shifted_tensor(gradient_magnitude, \u001b[38;5;241m-\u001b[39m\u001b[38;5;241m1\u001b[39m, \u001b[38;5;241m0\u001b[39m), shifted_tensor(gradient_magnitude, \u001b[38;5;241m1\u001b[39m, \u001b[38;5;241m0\u001b[39m)),\n\u001b[0;32m     67\u001b[0m               \u001b[38;5;241m135\u001b[39m: (shifted_tensor(gradient_magnitude, \u001b[38;5;241m-\u001b[39m\u001b[38;5;241m1\u001b[39m, \u001b[38;5;241m-\u001b[39m\u001b[38;5;241m1\u001b[39m), shifted_tensor(gradient_magnitude, \u001b[38;5;241m1\u001b[39m, \u001b[38;5;241m1\u001b[39m))}\n\u001b[0;32m     69\u001b[0m \u001b[38;5;66;03m# Keep only the maximum gradient in the edges direction\u001b[39;00m\n\u001b[0;32m     70\u001b[0m suppressed \u001b[38;5;241m=\u001b[39m tf\u001b[38;5;241m.\u001b[39mwhere(\n\u001b[0;32m     71\u001b[0m     \u001b[38;5;66;03m# Angle close to 0°\u001b[39;00m\n\u001b[0;32m     72\u001b[0m     (tf\u001b[38;5;241m.\u001b[39mlogical_and(\n\u001b[1;32m---> 73\u001b[0m         tf\u001b[38;5;241m.\u001b[39mless_equal(angle, \u001b[38;5;241;43m22.5\u001b[39;49m\u001b[43m \u001b[49m\u001b[38;5;241;43m|\u001b[39;49m\u001b[43m \u001b[49m\u001b[43mtf\u001b[49m\u001b[38;5;241;43m.\u001b[39;49m\u001b[43mgreater\u001b[49m\u001b[43m(\u001b[49m\u001b[43mangle\u001b[49m\u001b[43m,\u001b[49m\u001b[43m \u001b[49m\u001b[38;5;241;43m157.5\u001b[39;49m\u001b[43m)\u001b[49m), \u001b[38;5;66;03m# between -22.5° and 22.5° or 157.5° and 180° is a horizontal edge\u001b[39;00m\n\u001b[0;32m     74\u001b[0m         (gradient_magnitude \u001b[38;5;241m>\u001b[39m\u001b[38;5;241m=\u001b[39m neighbours[\u001b[38;5;241m0\u001b[39m][\u001b[38;5;241m0\u001b[39m]) \u001b[38;5;241m&\u001b[39m (gradient_magnitude \u001b[38;5;241m>\u001b[39m\u001b[38;5;241m=\u001b[39m neighbours[\u001b[38;5;241m45\u001b[39m][\u001b[38;5;241m1\u001b[39m]) \u001b[38;5;66;03m# compare with left and right neighbours\u001b[39;00m\n\u001b[0;32m     75\u001b[0m     )) \u001b[38;5;241m|\u001b[39m\n\u001b[0;32m     76\u001b[0m     \u001b[38;5;66;03m# Angle close to 45°\u001b[39;00m\n\u001b[0;32m     77\u001b[0m     (tf\u001b[38;5;241m.\u001b[39mlogical_and(\n\u001b[0;32m     78\u001b[0m         tf\u001b[38;5;241m.\u001b[39mgreater(angle, \u001b[38;5;241m22.5\u001b[39m) \u001b[38;5;241m&\u001b[39m tf\u001b[38;5;241m.\u001b[39mless_equal(angle, \u001b[38;5;241m67.5\u001b[39m), \u001b[38;5;66;03m# between 22.5° and 67.5° is a diagonal edge \\\u001b[39;00m\n\u001b[0;32m     79\u001b[0m         (gradient_magnitude \u001b[38;5;241m>\u001b[39m\u001b[38;5;241m=\u001b[39m neighbours[\u001b[38;5;241m45\u001b[39m][\u001b[38;5;241m0\u001b[39m]) \u001b[38;5;241m&\u001b[39m (gradient_magnitude \u001b[38;5;241m>\u001b[39m\u001b[38;5;241m=\u001b[39m neighbours[\u001b[38;5;241m45\u001b[39m][\u001b[38;5;241m1\u001b[39m])\n\u001b[0;32m     80\u001b[0m     )) \u001b[38;5;241m|\u001b[39m\n\u001b[0;32m     81\u001b[0m     \u001b[38;5;66;03m# Angle close to 90°\u001b[39;00m\n\u001b[0;32m     82\u001b[0m     (tf\u001b[38;5;241m.\u001b[39mlogical_and(\n\u001b[0;32m     83\u001b[0m         tf\u001b[38;5;241m.\u001b[39mgreater(angle, \u001b[38;5;241m67.5\u001b[39m) \u001b[38;5;241m&\u001b[39m tf\u001b[38;5;241m.\u001b[39mless_equal(angle, \u001b[38;5;241m112.5\u001b[39m), \u001b[38;5;66;03m# between 67.5° and 112.5° is a vertical edge\u001b[39;00m\n\u001b[0;32m     84\u001b[0m         (gradient_magnitude \u001b[38;5;241m>\u001b[39m\u001b[38;5;241m=\u001b[39m neighbours [\u001b[38;5;241m90\u001b[39m][\u001b[38;5;241m0\u001b[39m]) \u001b[38;5;241m&\u001b[39m (gradient_magnitude \u001b[38;5;241m>\u001b[39m\u001b[38;5;241m=\u001b[39m neighbours [\u001b[38;5;241m90\u001b[39m][\u001b[38;5;241m1\u001b[39m])\n\u001b[0;32m     85\u001b[0m     ))\n\u001b[0;32m     86\u001b[0m     \u001b[38;5;66;03m# Angle close to 135°\u001b[39;00m\n\u001b[0;32m     87\u001b[0m     (tf\u001b[38;5;241m.\u001b[39mlogical_and(\n\u001b[0;32m     88\u001b[0m         tf\u001b[38;5;241m.\u001b[39mgreater(angle, \u001b[38;5;241m112.5\u001b[39m) \u001b[38;5;241m&\u001b[39m tf\u001b[38;5;241m.\u001b[39mless_equal(angle, \u001b[38;5;241m157.5\u001b[39m), \u001b[38;5;66;03m# between 112.5 and 157.5 is a diagonal edge /\u001b[39;00m\n\u001b[0;32m     89\u001b[0m         (gradient_magnitude \u001b[38;5;241m>\u001b[39m\u001b[38;5;241m=\u001b[39m neighbours[\u001b[38;5;241m135\u001b[39m][\u001b[38;5;241m0\u001b[39m]) \u001b[38;5;241m&\u001b[39m (gradient_magnitude \u001b[38;5;241m>\u001b[39m\u001b[38;5;241m=\u001b[39m neighbours[\u001b[38;5;241m135\u001b[39m][\u001b[38;5;241m1\u001b[39m])\n\u001b[0;32m     90\u001b[0m     )),\n\u001b[0;32m     91\u001b[0m \n\u001b[0;32m     92\u001b[0m     \u001b[38;5;66;03m# keep pixels if the magnitude is greater than or equal to its neighbours. If not, set the value to 0\u001b[39;00m\n\u001b[0;32m     93\u001b[0m     gradient_magnitude, tf\u001b[38;5;241m.\u001b[39mzeros_like(gradient_magnitude)\n\u001b[0;32m     94\u001b[0m     )\n\u001b[0;32m     95\u001b[0m \u001b[38;5;28mprint\u001b[39m(suppressed)\n\u001b[0;32m     96\u001b[0m \u001b[38;5;28;01mreturn\u001b[39;00m suppressed\n",
      "\u001b[1;31mTypeError\u001b[0m: Exception encountered when calling CannyEdgeLayer.call().\n\n\u001b[1mCould not automatically infer the output shape / dtype of 'canny_edge_layer' (of type CannyEdgeLayer). Either the `CannyEdgeLayer.call()` method is incorrect, or you need to implement the `CannyEdgeLayer.compute_output_spec() / compute_output_shape()` method. Error encountered:\n\nExpected bool, but got 22.5 of type 'float'.\u001b[0m\n\nArguments received by CannyEdgeLayer.call():\n  • args=('<KerasTensor shape=(None, 32, 32, 1), dtype=float32, sparse=False, name=keras_tensor>',)\n  • kwargs=<class 'inspect._empty'>"
     ]
    }
   ],
   "source": [
    "# Build a model using convolutional layers\n",
    "model = tf.keras.Sequential([\n",
    "    tf.keras.Input(shape = (32, 32, 1)),\n",
    "    CannyEdgeLayer(low = 0.1, high = 0.3)\n",
    "])"
   ]
  }
 ],
 "metadata": {
  "kernelspec": {
   "display_name": "Python 3",
   "language": "python",
   "name": "python3"
  },
  "language_info": {
   "codemirror_mode": {
    "name": "ipython",
    "version": 3
   },
   "file_extension": ".py",
   "mimetype": "text/x-python",
   "name": "python",
   "nbconvert_exporter": "python",
   "pygments_lexer": "ipython3",
   "version": "3.11.9"
  }
 },
 "nbformat": 4,
 "nbformat_minor": 2
}
