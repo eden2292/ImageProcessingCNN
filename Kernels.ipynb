{
 "cells": [
  {
   "cell_type": "markdown",
   "metadata": {},
   "source": [
    "Kernels for use with custom layers in CustomLayers.ipynb\n",
    "https://setosa.io/ev/image-kernels/\n",
    "https://www.sciencedirect.com/topics/engineering/gaussian-blur"
   ]
  },
  {
   "cell_type": "code",
   "execution_count": 1,
   "metadata": {},
   "outputs": [],
   "source": [
    "import numpy as np"
   ]
  },
  {
   "cell_type": "code",
   "execution_count": 2,
   "metadata": {},
   "outputs": [],
   "source": [
    "sobel_kernel_x = np.array([[1, 0, -1],\n",
    "                           [2, 0, -2],\n",
    "                           [1, 0, -1]])\n",
    "\n",
    "sobel_kernel_y = np.array([[1, 2, 1],\n",
    "                           [0, 0, 0,],\n",
    "                           [-1, -2, -1]])\n",
    "\n",
    "gaussian_kernel = np.array([[1/16, 1/8, 1/16],\n",
    "                                [1/8, 1/4, 1/8],\n",
    "                                [1/16, 1/8, 1/16]])\n"
   ]
  }
 ],
 "metadata": {
  "kernelspec": {
   "display_name": "Python 3",
   "language": "python",
   "name": "python3"
  },
  "language_info": {
   "codemirror_mode": {
    "name": "ipython",
    "version": 3
   },
   "file_extension": ".py",
   "mimetype": "text/x-python",
   "name": "python",
   "nbconvert_exporter": "python",
   "pygments_lexer": "ipython3",
   "version": "3.11.9"
  }
 },
 "nbformat": 4,
 "nbformat_minor": 2
}
